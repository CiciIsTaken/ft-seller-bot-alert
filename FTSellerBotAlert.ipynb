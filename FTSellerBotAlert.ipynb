{
 "cells": [
  {
   "cell_type": "code",
   "execution_count": 1,
   "metadata": {},
   "outputs": [],
   "source": [
    "import libraries\n",
    "import requests\n",
    "import time\n",
    "import winsound\n",
    "\n",
    "APIKEY_BASE = ''\n",
    "ADDRESS = '0x32f00701ac8d275cd8126917144ebd528c303642'\n",
    "sell_txs = 0\n",
    "i = 0\n",
    "sell_txs_threshold = 3\n",
    "\n",
    "current_time = int(time.time())\n",
    "\n",
    "url_1 = f'https://api.basescan.org/api?module=block&action=getblocknobytime&timestamp={current_time}&closest=before&apikey={APIKEY_BASE}'\n",
    "response_1 = requests.get(url_1).json()\n",
    "\n",
    "#switch to debug\n",
    "start_block = response_1['result']\n",
    "#start_block='4864905'"
   ]
  }
 ],
 "metadata": {
  "kernelspec": {
   "display_name": "Python 3",
   "language": "python",
   "name": "python3"
  },
  "language_info": {
   "codemirror_mode": {
    "name": "ipython",
    "version": 3
   },
   "file_extension": ".py",
   "mimetype": "text/x-python",
   "name": "python",
   "nbconvert_exporter": "python",
   "pygments_lexer": "ipython3",
   "version": "3.11.4"
  },
  "orig_nbformat": 4
 },
 "nbformat": 4,
 "nbformat_minor": 2
}
